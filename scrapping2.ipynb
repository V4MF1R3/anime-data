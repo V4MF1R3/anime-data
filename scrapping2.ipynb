{
 "cells": [
  {
   "cell_type": "code",
   "execution_count": null,
   "metadata": {},
   "outputs": [],
   "source": [
    "import requests\n",
    "import pandas as pd\n",
    "import time"
   ]
  },
  {
   "cell_type": "code",
   "execution_count": null,
   "metadata": {},
   "outputs": [],
   "source": [
    "class RateLimiter:\n",
    "    def __init__(self, per_second=3, per_minute=60):\n",
    "        self.per_second = per_second\n",
    "        self.per_minute = per_minute\n",
    "        self.requests_made_second = 0\n",
    "        self.requests_made_minute = 0\n",
    "        self.start_time = time.time()\n",
    "\n",
    "    def wait_for_second(self):\n",
    "        current_time = time.time()\n",
    "        elapsed_time = current_time - self.start_time\n",
    "        if elapsed_time < 1:\n",
    "            self.requests_made_second += 1\n",
    "            if self.requests_made_second >= self.per_second:\n",
    "                time.sleep(1 - elapsed_time)\n",
    "                self.requests_made_second = 0\n",
    "                self.start_time = time.time()\n",
    "\n",
    "    def wait_for_minute(self):\n",
    "        current_time = time.time()\n",
    "        elapsed_time = current_time - self.start_time\n",
    "        if elapsed_time < 60:\n",
    "            self.requests_made_minute += 1\n",
    "            if self.requests_made_minute >= self.per_minute:\n",
    "                time.sleep(60 - elapsed_time)\n",
    "                self.requests_made_minute = 0\n",
    "                self.start_time = time.time()"
   ]
  },
  {
   "cell_type": "code",
   "execution_count": null,
   "metadata": {},
   "outputs": [],
   "source": [
    "def fetch_data_with_retry(endpoint_url, rate_limiter, max_retries=3):\n",
    "    retries = 0\n",
    "    while retries < max_retries:\n",
    "        rate_limiter.wait_for_second()\n",
    "        rate_limiter.wait_for_minute()\n",
    "        response = requests.get(endpoint_url)\n",
    "        if response.status_code == 200:\n",
    "            return response.json()\n",
    "        elif response.status_code == 429:  # Rate limit exceeded\n",
    "            print(\"Rate limit exceeded. Waiting before retrying...\")\n",
    "            time.sleep(10)\n",
    "            retries += 1\n",
    "        else:\n",
    "            print(f\"Failed to fetch data. Status code: {response.status_code}\")\n",
    "            return None\n",
    "    print(\"Max retries reached. Unable to fetch data.\")\n",
    "    return None"
   ]
  },
  {
   "cell_type": "code",
   "execution_count": null,
   "metadata": {},
   "outputs": [],
   "source": [
    "df = pd.read_json(\"data/data.json\")"
   ]
  },
  {
   "cell_type": "code",
   "execution_count": null,
   "metadata": {},
   "outputs": [],
   "source": [
    "df.head()"
   ]
  },
  {
   "cell_type": "code",
   "execution_count": null,
   "metadata": {},
   "outputs": [],
   "source": [
    "def fetch_data_with_retry(endpoint_url, rate_limiter, max_retries=3):\n",
    "    retries = 0\n",
    "    while retries < max_retries:\n",
    "        rate_limiter.wait_for_second()\n",
    "        rate_limiter.wait_for_minute()\n",
    "        response = requests.get(endpoint_url)\n",
    "        if response.status_code == 200:\n",
    "            return response.json()\n",
    "        elif response.status_code == 429:  # Rate limit exceeded\n",
    "            print(\"Rate limit exceeded. Waiting before retrying...\")\n",
    "            time.sleep(10)\n",
    "            retries += 1\n",
    "        else:\n",
    "            print(f\"Failed to fetch data. Status code: {response.status_code}\")\n",
    "            return None\n",
    "    print(\"Max retries reached. Unable to fetch data.\")\n",
    "    return None"
   ]
  },
  {
   "cell_type": "code",
   "execution_count": null,
   "metadata": {},
   "outputs": [],
   "source": [
    "column_names = [\"mal_id\", \"mal_id_recomm\", \"votes\"]\n",
    "df1 = pd.DataFrame(columns=column_names)"
   ]
  },
  {
   "cell_type": "code",
   "execution_count": null,
   "metadata": {},
   "outputs": [],
   "source": [
    "base_url = \"https://api.jikan.moe/v4/anime/\"\n",
    "limiter = RateLimiter()"
   ]
  },
  {
   "cell_type": "code",
   "execution_count": null,
   "metadata": {},
   "outputs": [],
   "source": [
    "for mal_id in df['mal_id']:\n",
    "    endpoint_url = f\"{base_url}{mal_id}/recommendations\"\n",
    "    data = fetch_data_with_retry(endpoint_url, limiter)\n",
    "    if data['data']:\n",
    "        for entry in data['data']:\n",
    "            new_entry = {'mal_id' : mal_id, 'mal_id_recomm': entry['entry']['mal_id'], 'votes' : entry['votes']}\n",
    "            df1 = df1._append(new_entry, ignore_index=True)"
   ]
  },
  {
   "cell_type": "code",
   "execution_count": null,
   "metadata": {},
   "outputs": [],
   "source": [
    "df1['mal_id_recomm'] = df3['mal_id_recomm'].astype(int)\n",
    "df1['votes'] = df3['votes'].astype(int)"
   ]
  },
  {
   "cell_type": "code",
   "execution_count": null,
   "metadata": {},
   "outputs": [],
   "source": [
    "df1.to_csv('data/user_recommendation.csv', index=False)"
   ]
  }
 ],
 "metadata": {
  "kernelspec": {
   "display_name": ".venv",
   "language": "python",
   "name": "python3"
  },
  "language_info": {
   "codemirror_mode": {
    "name": "ipython",
    "version": 3
   },
   "file_extension": ".py",
   "mimetype": "text/x-python",
   "name": "python",
   "nbconvert_exporter": "python",
   "pygments_lexer": "ipython3",
   "version": "3.12.3"
  }
 },
 "nbformat": 4,
 "nbformat_minor": 2
}
